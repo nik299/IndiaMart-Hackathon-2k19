{
  "nbformat": 4,
  "nbformat_minor": 0,
  "metadata": {
    "colab": {
      "name": "phase1.ipynb",
      "version": "0.3.2",
      "provenance": []
    },
    "language_info": {
      "codemirror_mode": {
        "name": "ipython",
        "version": 3
      },
      "file_extension": ".py",
      "mimetype": "text/x-python",
      "name": "python",
      "nbconvert_exporter": "python",
      "pygments_lexer": "ipython3",
      "version": "3.6.5"
    },
    "kernelspec": {
      "display_name": "Python 3",
      "language": "python",
      "name": "python3"
    }
  },
  "cells": [
    {
      "cell_type": "code",
      "metadata": {
        "id": "YokkO0iBEe2t",
        "colab_type": "code",
        "colab": {}
      },
      "source": [
        "import pandas as pd\n",
        "import matplotlib.pyplot as plt\n",
        "import seaborn as sns\n",
        "import numpy as np\n",
        "from scipy.stats import norm\n",
        "from scipy.signal import argrelextrema\n",
        "from scipy import stats\n",
        "import warnings\n",
        "warnings.filterwarnings('ignore')\n",
        "%matplotlib inline"
      ],
      "execution_count": 0,
      "outputs": []
    },
    {
      "cell_type": "code",
      "metadata": {
        "id": "V_JxW7kwEe2x",
        "colab_type": "code",
        "colab": {}
      },
      "source": [
        "drilldf = pd.read_csv('./phaseone-drill.csv')"
      ],
      "execution_count": 0,
      "outputs": []
    },
    {
      "cell_type": "code",
      "metadata": {
        "id": "Nl-s0oZqEe20",
        "colab_type": "code",
        "colab": {
          "base_uri": "https://localhost:8080/",
          "height": 204
        },
        "outputId": "13403692-5223-414b-9bcf-ef639e51c424"
      },
      "source": [
        "drilldf.head()"
      ],
      "execution_count": 5,
      "outputs": [
        {
          "output_type": "execute_result",
          "data": {
            "text/html": [
              "<div>\n",
              "<style scoped>\n",
              "    .dataframe tbody tr th:only-of-type {\n",
              "        vertical-align: middle;\n",
              "    }\n",
              "\n",
              "    .dataframe tbody tr th {\n",
              "        vertical-align: top;\n",
              "    }\n",
              "\n",
              "    .dataframe thead th {\n",
              "        text-align: right;\n",
              "    }\n",
              "</style>\n",
              "<table border=\"1\" class=\"dataframe\">\n",
              "  <thead>\n",
              "    <tr style=\"text-align: right;\">\n",
              "      <th></th>\n",
              "      <th>Category Name</th>\n",
              "      <th>Unit</th>\n",
              "      <th>Price</th>\n",
              "    </tr>\n",
              "  </thead>\n",
              "  <tbody>\n",
              "    <tr>\n",
              "      <th>0</th>\n",
              "      <td>Impact Drill</td>\n",
              "      <td>Piece</td>\n",
              "      <td>2</td>\n",
              "    </tr>\n",
              "    <tr>\n",
              "      <th>1</th>\n",
              "      <td>Impact Drill</td>\n",
              "      <td>Piece</td>\n",
              "      <td>675</td>\n",
              "    </tr>\n",
              "    <tr>\n",
              "      <th>2</th>\n",
              "      <td>Impact Drill</td>\n",
              "      <td>Piece</td>\n",
              "      <td>766</td>\n",
              "    </tr>\n",
              "    <tr>\n",
              "      <th>3</th>\n",
              "      <td>Impact Drill</td>\n",
              "      <td>Piece</td>\n",
              "      <td>900</td>\n",
              "    </tr>\n",
              "    <tr>\n",
              "      <th>4</th>\n",
              "      <td>Impact Drill</td>\n",
              "      <td>Piece</td>\n",
              "      <td>1000</td>\n",
              "    </tr>\n",
              "  </tbody>\n",
              "</table>\n",
              "</div>"
            ],
            "text/plain": [
              "  Category Name   Unit  Price\n",
              "0  Impact Drill  Piece      2\n",
              "1  Impact Drill  Piece    675\n",
              "2  Impact Drill  Piece    766\n",
              "3  Impact Drill  Piece    900\n",
              "4  Impact Drill  Piece   1000"
            ]
          },
          "metadata": {
            "tags": []
          },
          "execution_count": 5
        }
      ]
    },
    {
      "cell_type": "code",
      "metadata": {
        "id": "-dHGmh-5Ee24",
        "colab_type": "code",
        "colab": {
          "base_uri": "https://localhost:8080/",
          "height": 68
        },
        "outputId": "501f6ea0-5ad3-44be-fe2c-df7b1f4b9bc5"
      },
      "source": [
        "units=drilldf['Unit'].unique()\n",
        "units"
      ],
      "execution_count": 6,
      "outputs": [
        {
          "output_type": "execute_result",
          "data": {
            "text/plain": [
              "array(['Piece', 'Piece(s)', 'pack', 'unit', 'Number', 'Unit', 'Pack',\n",
              "       '1nos', 'Unit(s)', 'kit', 'Set', 'Pc_Onwards', 'ONWARDS', 'Kit'],\n",
              "      dtype=object)"
            ]
          },
          "metadata": {
            "tags": []
          },
          "execution_count": 6
        }
      ]
    },
    {
      "cell_type": "code",
      "metadata": {
        "id": "7dKAIEMGEe28",
        "colab_type": "code",
        "colab": {
          "base_uri": "https://localhost:8080/",
          "height": 272
        },
        "outputId": "e309f56b-fb65-49cf-9443-335ea87033a8"
      },
      "source": [
        "drilldf['Unit'].value_counts()"
      ],
      "execution_count": 7,
      "outputs": [
        {
          "output_type": "execute_result",
          "data": {
            "text/plain": [
              "Piece         119\n",
              "pack           47\n",
              "unit           25\n",
              "Unit           17\n",
              "Number         14\n",
              "Pack            9\n",
              "Pc_Onwards      5\n",
              "Piece(s)        5\n",
              "Kit             1\n",
              "kit             1\n",
              "ONWARDS         1\n",
              "Set             1\n",
              "Unit(s)         1\n",
              "1nos            1\n",
              "Name: Unit, dtype: int64"
            ]
          },
          "metadata": {
            "tags": []
          },
          "execution_count": 7
        }
      ]
    },
    {
      "cell_type": "code",
      "metadata": {
        "id": "I-o75iBmEe2_",
        "colab_type": "code",
        "colab": {}
      },
      "source": [
        "npa=drilldf['Price'][1:]"
      ],
      "execution_count": 0,
      "outputs": []
    },
    {
      "cell_type": "code",
      "metadata": {
        "id": "a0WuLQXYEe3B",
        "colab_type": "code",
        "colab": {
          "base_uri": "https://localhost:8080/",
          "height": 153
        },
        "outputId": "ca6fa642-182e-4c5f-ee17-2516a7baeea3"
      },
      "source": [
        "drilldf.info()"
      ],
      "execution_count": 9,
      "outputs": [
        {
          "output_type": "stream",
          "text": [
            "<class 'pandas.core.frame.DataFrame'>\n",
            "RangeIndex: 247 entries, 0 to 246\n",
            "Data columns (total 3 columns):\n",
            "Category Name    247 non-null object\n",
            "Unit             247 non-null object\n",
            "Price            247 non-null int64\n",
            "dtypes: int64(1), object(2)\n",
            "memory usage: 5.9+ KB\n"
          ],
          "name": "stdout"
        }
      ]
    },
    {
      "cell_type": "code",
      "metadata": {
        "id": "MSDd-12BEe3F",
        "colab_type": "code",
        "colab": {
          "base_uri": "https://localhost:8080/",
          "height": 51
        },
        "outputId": "9871ce5d-b436-4cd9-c892-516abd306226"
      },
      "source": [
        "drilldf[1:].describe()"
      ],
      "execution_count": 14,
      "outputs": [
        {
          "output_type": "execute_result",
          "data": {
            "text/plain": [
              "Price    9554.054996\n",
              "dtype: float64"
            ]
          },
          "metadata": {
            "tags": []
          },
          "execution_count": 14
        }
      ]
    },
    {
      "cell_type": "code",
      "metadata": {
        "id": "PCtYTrCoF8Gh",
        "colab_type": "code",
        "colab": {
          "base_uri": "https://localhost:8080/",
          "height": 34
        },
        "outputId": "2a112def-b5d0-4ca4-b118-d3f95dd77e23"
      },
      "source": [
        "stdev=np.std(npa)\n",
        "print(stdev)"
      ],
      "execution_count": 22,
      "outputs": [
        {
          "output_type": "stream",
          "text": [
            "9534.61641034422\n"
          ],
          "name": "stdout"
        }
      ]
    },
    {
      "cell_type": "code",
      "metadata": {
        "id": "nRb0nWC4Ee3I",
        "colab_type": "code",
        "colab": {}
      },
      "source": [
        "from scipy.stats import gaussian_kde\n",
        "def kde_scipy(x, x_grid, bandwidth, **kwargs):\n",
        "    \"\"\"Kernel Density Estimation with Scipy\"\"\"\n",
        "    # Note that scipy weights its bandwidth by the covariance of the\n",
        "    # input data.  To make the results comparable to the other methods,\n",
        "    # we divide the bandwidth by the sample standard deviation here.\n",
        "    kde = gaussian_kde(x, bw_method=bandwidth / x.std(ddof=1), **kwargs)\n",
        "    return kde.evaluate(x_grid)"
      ],
      "execution_count": 0,
      "outputs": []
    },
    {
      "cell_type": "code",
      "metadata": {
        "id": "PBAlRD6kEe3K",
        "colab_type": "code",
        "colab": {
          "base_uri": "https://localhost:8080/",
          "height": 286
        },
        "outputId": "53d25458-24cf-4271-c6c8-ed952c29bc30"
      },
      "source": [
        "y_grid=np.linspace(0,60000,1000)\n",
        "ideal=1.06*(np.std(npa))*((len(npa)**(-1/5)))\n",
        "pdf = kde_scipy(npa, y_grid, bandwidth=ideal/2)\n",
        "plt.plot(y_grid, pdf, color='blue', alpha=1, lw=1)"
      ],
      "execution_count": 24,
      "outputs": [
        {
          "output_type": "execute_result",
          "data": {
            "text/plain": [
              "[<matplotlib.lines.Line2D at 0x7fe3800d1cc0>]"
            ]
          },
          "metadata": {
            "tags": []
          },
          "execution_count": 24
        },
        {
          "output_type": "display_data",
          "data": {
            "image/png": "[encoded data removed]",
            "text/plain": [
              "<Figure size 432x288 with 1 Axes>"
            ]
          },
          "metadata": {
            "tags": []
          }
        }
      ]
    },
    {
      "cell_type": "code",
      "metadata": {
        "id": "yLFkxtdUJNj-",
        "colab_type": "code",
        "colab": {
          "base_uri": "https://localhost:8080/",
          "height": 34
        },
        "outputId": "05977680-6d03-4d9a-dae4-9bf35fb1f9c2"
      },
      "source": [
        "np.sum(pdf)*60"
      ],
      "execution_count": 33,
      "outputs": [
        {
          "output_type": "execute_result",
          "data": {
            "text/plain": [
              "0.935348379935688"
            ]
          },
          "metadata": {
            "tags": []
          },
          "execution_count": 33
        }
      ]
    },
    {
      "cell_type": "code",
      "metadata": {
        "id": "00CBOvWMH7WT",
        "colab_type": "code",
        "colab": {
          "base_uri": "https://localhost:8080/",
          "height": 51
        },
        "outputId": "70464ba8-d70a-4f80-d365-a8d9515c4961"
      },
      "source": [
        "f_peak=argrelextrema(pdf, np.greater)[0][0]\n",
        "for q in range(f_peak):\n",
        "  if np.sum(pdf[f_peak-q:f_peak+q])*60 > 0.5:\n",
        "    print(np.sum(pdf[f_peak-q:f_peak+q])*60,q)\n",
        "    break\n",
        "print((f_peak-q)*60,(f_peak+q)*60)"
      ],
      "execution_count": 34,
      "outputs": [
        {
          "output_type": "stream",
          "text": [
            "0.5020798337819504 34\n",
            "540 4620\n"
          ],
          "name": "stdout"
        }
      ]
    },
    {
      "cell_type": "code",
      "metadata": {
        "id": "AfI6YOdoEe3O",
        "colab_type": "code",
        "colab": {
          "base_uri": "https://localhost:8080/",
          "height": 283
        },
        "outputId": "cad703a0-532b-489b-ca67-f82d2d20d42a"
      },
      "source": [
        "sns.distplot(drilldf['Price'][1:]);"
      ],
      "execution_count": 25,
      "outputs": [
        {
          "output_type": "display_data",
          "data": {
            "image/png": "[encoded data removed]",
            "text/plain": [
              "<Figure size 432x288 with 1 Axes>"
            ]
          },
          "metadata": {
            "tags": []
          }
        }
      ]
    },
    {
      "cell_type": "code",
      "metadata": {
        "id": "R7E0O6foEe3R",
        "colab_type": "code",
        "colab": {}
      },
      "source": [
        "sns.distplot(df_train['Price'][1:], fit=norm);\n",
        "fig = plt.figure()\n",
        "res = stats.probplot(df_train['Price'][1:], plot=plt)"
      ],
      "execution_count": 0,
      "outputs": []
    },
    {
      "cell_type": "code",
      "metadata": {
        "id": "SlJC57DyEe3V",
        "colab_type": "code",
        "colab": {}
      },
      "source": [
        "plt.scatter(drilldf['Price'],array);"
      ],
      "execution_count": 0,
      "outputs": []
    },
    {
      "cell_type": "code",
      "metadata": {
        "id": "2-t0l3WLEe3a",
        "colab_type": "code",
        "colab": {}
      },
      "source": [
        "array=np.arange(247)+1;array"
      ],
      "execution_count": 0,
      "outputs": []
    },
    {
      "cell_type": "code",
      "metadata": {
        "id": "FfdJlg2SEe3f",
        "colab_type": "code",
        "colab": {}
      },
      "source": [
        ""
      ],
      "execution_count": 0,
      "outputs": []
    }
  ]
}