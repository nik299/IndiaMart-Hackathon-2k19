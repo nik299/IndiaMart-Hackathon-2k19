{
  "nbformat": 4,
  "nbformat_minor": 0,
  "metadata": {
    "colab": {
      "name": "Copy of phase1.ipynb",
      "version": "0.3.2",
      "provenance": []
    },
    "language_info": {
      "codemirror_mode": {
        "name": "ipython",
        "version": 3
      },
      "file_extension": ".py",
      "mimetype": "text/x-python",
      "name": "python",
      "nbconvert_exporter": "python",
      "pygments_lexer": "ipython3",
      "version": "3.6.5"
    },
    "kernelspec": {
      "display_name": "Python 3",
      "language": "python",
      "name": "python3"
    }
  },
  "cells": [
    {
      "cell_type": "code",
      "metadata": {
        "id": "YokkO0iBEe2t",
        "colab_type": "code",
        "colab": {}
      },
      "source": [
        "import pandas as pd\n",
        "import matplotlib.pyplot as plt\n",
        "import seaborn as sns\n",
        "import numpy as np\n",
        "from scipy.stats import norm\n",
        "from scipy.signal import argrelextrema\n",
        "from scipy import stats\n",
        "import warnings\n",
        "warnings.filterwarnings('ignore')\n",
        "%matplotlib inline"
      ],
      "execution_count": 0,
      "outputs": []
    },
    {
      "cell_type": "code",
      "metadata": {
        "id": "V_JxW7kwEe2x",
        "colab_type": "code",
        "colab": {}
      },
      "source": [
        "drilldf = pd.read_csv('./phaseone-drill.csv')\n",
        "glovedf = pd.read_csv('./phaseone-gloves.csv')\n",
        "kurtadf = pd.read_csv('./phaseone-kurta.csv')"
      ],
      "execution_count": 0,
      "outputs": []
    },
    {
      "cell_type": "code",
      "metadata": {
        "id": "Nl-s0oZqEe20",
        "colab_type": "code",
        "outputId": "a30f845e-10d9-472d-d7e0-11308533fa32",
        "colab": {
          "base_uri": "https://localhost:8080/",
          "height": 204
        }
      },
      "source": [
        "drilldf.head()"
      ],
      "execution_count": 20,
      "outputs": [
        {
          "output_type": "execute_result",
          "data": {
            "text/html": [
              "<div>\n",
              "<style scoped>\n",
              "    .dataframe tbody tr th:only-of-type {\n",
              "        vertical-align: middle;\n",
              "    }\n",
              "\n",
              "    .dataframe tbody tr th {\n",
              "        vertical-align: top;\n",
              "    }\n",
              "\n",
              "    .dataframe thead th {\n",
              "        text-align: right;\n",
              "    }\n",
              "</style>\n",
              "<table border=\"1\" class=\"dataframe\">\n",
              "  <thead>\n",
              "    <tr style=\"text-align: right;\">\n",
              "      <th></th>\n",
              "      <th>Category Name</th>\n",
              "      <th>Unit</th>\n",
              "      <th>Price</th>\n",
              "    </tr>\n",
              "  </thead>\n",
              "  <tbody>\n",
              "    <tr>\n",
              "      <th>0</th>\n",
              "      <td>Impact Drill</td>\n",
              "      <td>Piece</td>\n",
              "      <td>2</td>\n",
              "    </tr>\n",
              "    <tr>\n",
              "      <th>1</th>\n",
              "      <td>Impact Drill</td>\n",
              "      <td>Piece</td>\n",
              "      <td>675</td>\n",
              "    </tr>\n",
              "    <tr>\n",
              "      <th>2</th>\n",
              "      <td>Impact Drill</td>\n",
              "      <td>Piece</td>\n",
              "      <td>766</td>\n",
              "    </tr>\n",
              "    <tr>\n",
              "      <th>3</th>\n",
              "      <td>Impact Drill</td>\n",
              "      <td>Piece</td>\n",
              "      <td>900</td>\n",
              "    </tr>\n",
              "    <tr>\n",
              "      <th>4</th>\n",
              "      <td>Impact Drill</td>\n",
              "      <td>Piece</td>\n",
              "      <td>1000</td>\n",
              "    </tr>\n",
              "  </tbody>\n",
              "</table>\n",
              "</div>"
            ],
            "text/plain": [
              "  Category Name   Unit  Price\n",
              "0  Impact Drill  Piece      2\n",
              "1  Impact Drill  Piece    675\n",
              "2  Impact Drill  Piece    766\n",
              "3  Impact Drill  Piece    900\n",
              "4  Impact Drill  Piece   1000"
            ]
          },
          "metadata": {
            "tags": []
          },
          "execution_count": 20
        }
      ]
    },
    {
      "cell_type": "code",
      "metadata": {
        "id": "NhGWe8K36btY",
        "colab_type": "code",
        "colab": {
          "base_uri": "https://localhost:8080/",
          "height": 204
        },
        "outputId": "ac0d8880-fed7-4744-e5ae-44cf7f422666"
      },
      "source": [
        "glovedf.head()"
      ],
      "execution_count": 21,
      "outputs": [
        {
          "output_type": "execute_result",
          "data": {
            "text/html": [
              "<div>\n",
              "<style scoped>\n",
              "    .dataframe tbody tr th:only-of-type {\n",
              "        vertical-align: middle;\n",
              "    }\n",
              "\n",
              "    .dataframe tbody tr th {\n",
              "        vertical-align: top;\n",
              "    }\n",
              "\n",
              "    .dataframe thead th {\n",
              "        text-align: right;\n",
              "    }\n",
              "</style>\n",
              "<table border=\"1\" class=\"dataframe\">\n",
              "  <thead>\n",
              "    <tr style=\"text-align: right;\">\n",
              "      <th></th>\n",
              "      <th>Category Name</th>\n",
              "      <th>Unit</th>\n",
              "      <th>Price</th>\n",
              "    </tr>\n",
              "  </thead>\n",
              "  <tbody>\n",
              "    <tr>\n",
              "      <th>0</th>\n",
              "      <td>Leather Safety Gloves</td>\n",
              "      <td>Pair</td>\n",
              "      <td>10</td>\n",
              "    </tr>\n",
              "    <tr>\n",
              "      <th>1</th>\n",
              "      <td>Leather Safety Gloves</td>\n",
              "      <td>Pair</td>\n",
              "      <td>12</td>\n",
              "    </tr>\n",
              "    <tr>\n",
              "      <th>2</th>\n",
              "      <td>Leather Safety Gloves</td>\n",
              "      <td>Pair</td>\n",
              "      <td>12</td>\n",
              "    </tr>\n",
              "    <tr>\n",
              "      <th>3</th>\n",
              "      <td>Leather Safety Gloves</td>\n",
              "      <td>Pair</td>\n",
              "      <td>20</td>\n",
              "    </tr>\n",
              "    <tr>\n",
              "      <th>4</th>\n",
              "      <td>Leather Safety Gloves</td>\n",
              "      <td>Pair</td>\n",
              "      <td>23</td>\n",
              "    </tr>\n",
              "  </tbody>\n",
              "</table>\n",
              "</div>"
            ],
            "text/plain": [
              "           Category Name  Unit  Price\n",
              "0  Leather Safety Gloves  Pair     10\n",
              "1  Leather Safety Gloves  Pair     12\n",
              "2  Leather Safety Gloves  Pair     12\n",
              "3  Leather Safety Gloves  Pair     20\n",
              "4  Leather Safety Gloves  Pair     23"
            ]
          },
          "metadata": {
            "tags": []
          },
          "execution_count": 21
        }
      ]
    },
    {
      "cell_type": "code",
      "metadata": {
        "id": "d5O5yoUh6mKd",
        "colab_type": "code",
        "colab": {
          "base_uri": "https://localhost:8080/",
          "height": 204
        },
        "outputId": "ca9e85ab-f72a-4b0d-f29e-62a06aad791a"
      },
      "source": [
        "kurtadf.head()"
      ],
      "execution_count": 22,
      "outputs": [
        {
          "output_type": "execute_result",
          "data": {
            "text/html": [
              "<div>\n",
              "<style scoped>\n",
              "    .dataframe tbody tr th:only-of-type {\n",
              "        vertical-align: middle;\n",
              "    }\n",
              "\n",
              "    .dataframe tbody tr th {\n",
              "        vertical-align: top;\n",
              "    }\n",
              "\n",
              "    .dataframe thead th {\n",
              "        text-align: right;\n",
              "    }\n",
              "</style>\n",
              "<table border=\"1\" class=\"dataframe\">\n",
              "  <thead>\n",
              "    <tr style=\"text-align: right;\">\n",
              "      <th></th>\n",
              "      <th>Category Name</th>\n",
              "      <th>Unit</th>\n",
              "      <th>Price</th>\n",
              "    </tr>\n",
              "  </thead>\n",
              "  <tbody>\n",
              "    <tr>\n",
              "      <th>0</th>\n",
              "      <td>Ladies Kurta</td>\n",
              "      <td>Piece</td>\n",
              "      <td>1</td>\n",
              "    </tr>\n",
              "    <tr>\n",
              "      <th>1</th>\n",
              "      <td>Ladies Kurta</td>\n",
              "      <td>Piece</td>\n",
              "      <td>1</td>\n",
              "    </tr>\n",
              "    <tr>\n",
              "      <th>2</th>\n",
              "      <td>Ladies Kurta</td>\n",
              "      <td>dollar</td>\n",
              "      <td>7</td>\n",
              "    </tr>\n",
              "    <tr>\n",
              "      <th>3</th>\n",
              "      <td>Ladies Kurta</td>\n",
              "      <td>Piece</td>\n",
              "      <td>20</td>\n",
              "    </tr>\n",
              "    <tr>\n",
              "      <th>4</th>\n",
              "      <td>Ladies Kurta</td>\n",
              "      <td>Piece</td>\n",
              "      <td>20</td>\n",
              "    </tr>\n",
              "  </tbody>\n",
              "</table>\n",
              "</div>"
            ],
            "text/plain": [
              "  Category Name    Unit  Price\n",
              "0  Ladies Kurta   Piece      1\n",
              "1  Ladies Kurta   Piece      1\n",
              "2  Ladies Kurta  dollar      7\n",
              "3  Ladies Kurta   Piece     20\n",
              "4  Ladies Kurta   Piece     20"
            ]
          },
          "metadata": {
            "tags": []
          },
          "execution_count": 22
        }
      ]
    },
    {
      "cell_type": "code",
      "metadata": {
        "id": "xCbZTSGo6iNu",
        "colab_type": "code",
        "colab": {}
      },
      "source": [
        ""
      ],
      "execution_count": 0,
      "outputs": []
    },
    {
      "cell_type": "code",
      "metadata": {
        "id": "-dHGmh-5Ee24",
        "colab_type": "code",
        "outputId": "01637123-ddbe-46f4-93b1-68df9660e00d",
        "colab": {
          "base_uri": "https://localhost:8080/",
          "height": 289
        }
      },
      "source": [
        "drill_units=drilldf['Unit'].unique()\n",
        "print(drill_units,'drills')\n",
        "glove_units=glovedf['Unit'].unique()\n",
        "print(glove_units,'gloves')\n",
        "kurta_units=kurtadf['Unit'].unique()\n",
        "print(kurta_units,'kurtas')"
      ],
      "execution_count": 23,
      "outputs": [
        {
          "output_type": "stream",
          "text": [
            "['Piece' 'Piece(s)' 'pack' 'unit' 'Number' 'Unit' 'Pack' '1nos' 'Unit(s)'\n",
            " 'kit' 'Set' 'Pc_Onwards' 'ONWARDS' 'Kit'] drills\n",
            "['Pair' 'Piece' 'pack' 'Unit' 'Pack' 'Unit/Onwards' 'Pair(s)' 'unit' 'Set'\n",
            " 'Pieces'] gloves\n",
            "['Piece' 'dollar' 'Packet' 'piece' 'Meter' 'Piece(s)' 'Set' 'Per piece'\n",
            " 'Unit' '1' '1pc' 'Box' '170 per peice' 'Unstitch' 'Barrel' 'Carton'\n",
            " 'peice' 'Pieces' 'Sets' 'Unit(s)' 'one' 'Bag' 'Selfie Kurtis' 'Pack'\n",
            " 'Pair' 'Pound' 'Peice' '1piece' 'No' 'Kilogram' 'Number' \"40' Container\"\n",
            " 'pack' '100 pic' 'Year' \"20' Container\" 'Pcs' 'Piece(s) Onwards' 'One'\n",
            " 'kurtI' 'Ounce' 'onwards' '10-10000' 'per piese' 'Day' 'Set(s)'\n",
            " '12 units' '1pis' 'Onwards' 'One peace' 'Set(S)' 'Pair piece' 'Ounce(s)'\n",
            " 'Packet(s)' 'Single' 'one pcs' 'Pc' '4 pcs' '4 units' '5' 'set' 'kurti'\n",
            " 'pcs' 'pices' 'Pics' 'single piece' 'pi' 'per piece' 'Kurti' 'one unit'\n",
            " '1 piece' '1 pice' 'Suit' 'pair piece' '10' 'pieces' '1pcs' '1 pc'\n",
            " '3 set' 'Xl size' '1000 per unit' '1pcd' 'Psc' 'Gram' 'Rs' 'in' '1 pcs'\n",
            " 'Feet' 'onepices'] kurtas\n"
          ],
          "name": "stdout"
        }
      ]
    },
    {
      "cell_type": "code",
      "metadata": {
        "id": "7dKAIEMGEe28",
        "colab_type": "code",
        "outputId": "3a67efbf-af5c-45ea-dd0a-0869deb63257",
        "colab": {
          "base_uri": "https://localhost:8080/",
          "height": 272
        }
      },
      "source": [
        "drilldf['Unit'].value_counts()"
      ],
      "execution_count": 24,
      "outputs": [
        {
          "output_type": "execute_result",
          "data": {
            "text/plain": [
              "Piece         119\n",
              "pack           47\n",
              "unit           25\n",
              "Unit           17\n",
              "Number         14\n",
              "Pack            9\n",
              "Piece(s)        5\n",
              "Pc_Onwards      5\n",
              "1nos            1\n",
              "Set             1\n",
              "ONWARDS         1\n",
              "kit             1\n",
              "Unit(s)         1\n",
              "Kit             1\n",
              "Name: Unit, dtype: int64"
            ]
          },
          "metadata": {
            "tags": []
          },
          "execution_count": 24
        }
      ]
    },
    {
      "cell_type": "code",
      "metadata": {
        "id": "_aMEixII92Ku",
        "colab_type": "code",
        "colab": {
          "base_uri": "https://localhost:8080/",
          "height": 204
        },
        "outputId": "7a31e472-37f4-4658-d3bb-7f5615669ffe"
      },
      "source": [
        "glovedf['Unit'].value_counts()"
      ],
      "execution_count": 25,
      "outputs": [
        {
          "output_type": "execute_result",
          "data": {
            "text/plain": [
              "Pair            113\n",
              "unit              9\n",
              "Piece             6\n",
              "pack              5\n",
              "Pack              3\n",
              "Unit              3\n",
              "Pair(s)           2\n",
              "Unit/Onwards      1\n",
              "Set               1\n",
              "Pieces            1\n",
              "Name: Unit, dtype: int64"
            ]
          },
          "metadata": {
            "tags": []
          },
          "execution_count": 25
        }
      ]
    },
    {
      "cell_type": "code",
      "metadata": {
        "id": "_2f3W73W92vW",
        "colab_type": "code",
        "colab": {
          "base_uri": "https://localhost:8080/",
          "height": 1071
        },
        "outputId": "bb671491-e715-4701-f0ae-58709a1e57a2"
      },
      "source": [
        "kurtadf['Unit'].value_counts()"
      ],
      "execution_count": 26,
      "outputs": [
        {
          "output_type": "execute_result",
          "data": {
            "text/plain": [
              "Piece            3334\n",
              "Piece(s)          500\n",
              "1                  76\n",
              "Unit               63\n",
              "Set                43\n",
              "Onwards            39\n",
              "piece              38\n",
              "No                 37\n",
              "Number             23\n",
              "Bag                23\n",
              "Pair               17\n",
              "Pieces             13\n",
              "Pack               13\n",
              "Unit(s)            11\n",
              "onwards             9\n",
              "Box                 9\n",
              "20' Container       6\n",
              "Set(s)              5\n",
              "40' Container       5\n",
              "Ounce               4\n",
              "Packet              4\n",
              "Psc                 3\n",
              "kurti               3\n",
              "1piece              3\n",
              "one                 3\n",
              "1pc                 3\n",
              "Meter               3\n",
              "peice               3\n",
              "Packet(s)           2\n",
              "Barrel              2\n",
              "                 ... \n",
              "Per piece           1\n",
              "single piece        1\n",
              "one pcs             1\n",
              "1pcs                1\n",
              "Xl size             1\n",
              "4 units             1\n",
              "Rs                  1\n",
              "Pc                  1\n",
              "Pair piece          1\n",
              "Gram                1\n",
              "100 pic             1\n",
              "in                  1\n",
              "per piese           1\n",
              "one unit            1\n",
              "1 piece             1\n",
              "set                 1\n",
              "pcs                 1\n",
              "Pcs                 1\n",
              "One peace           1\n",
              "pi                  1\n",
              "170 per peice       1\n",
              "Kilogram            1\n",
              "Suit                1\n",
              "dollar              1\n",
              "per piece           1\n",
              "Selfie Kurtis       1\n",
              "1 pcs               1\n",
              "Kurti               1\n",
              "Pound               1\n",
              "Peice               1\n",
              "Name: Unit, Length: 89, dtype: int64"
            ]
          },
          "metadata": {
            "tags": []
          },
          "execution_count": 26
        }
      ]
    },
    {
      "cell_type": "code",
      "metadata": {
        "id": "I-o75iBmEe2_",
        "colab_type": "code",
        "colab": {}
      },
      "source": [
        "npa=drilldf['Price'][1:]\n",
        "npa1=glovedf.loc[glovedf['Unit']=='Pair']['Price']\n",
        "npa2=kurtadf.loc[(kurtadf['Unit']=='Piece') & (kurtadf['Price'] < 10000)]['Price'][:-1]"
      ],
      "execution_count": 0,
      "outputs": []
    },
    {
      "cell_type": "code",
      "metadata": {
        "id": "a0WuLQXYEe3B",
        "colab_type": "code",
        "outputId": "701d8ddc-ba32-4dc8-942d-ab2b67d00191",
        "colab": {
          "base_uri": "https://localhost:8080/",
          "height": 153
        }
      },
      "source": [
        "drilldf.info()"
      ],
      "execution_count": 47,
      "outputs": [
        {
          "output_type": "stream",
          "text": [
            "<class 'pandas.core.frame.DataFrame'>\n",
            "RangeIndex: 247 entries, 0 to 246\n",
            "Data columns (total 3 columns):\n",
            "Category Name    247 non-null object\n",
            "Unit             247 non-null object\n",
            "Price            247 non-null int64\n",
            "dtypes: int64(1), object(2)\n",
            "memory usage: 5.9+ KB\n"
          ],
          "name": "stdout"
        }
      ]
    },
    {
      "cell_type": "code",
      "metadata": {
        "id": "MSDd-12BEe3F",
        "colab_type": "code",
        "outputId": "7fe0f517-386a-49f4-e8c9-8e368fbae7ae",
        "colab": {
          "base_uri": "https://localhost:8080/",
          "height": 297
        }
      },
      "source": [
        "drilldf[1:].describe()"
      ],
      "execution_count": 29,
      "outputs": [
        {
          "output_type": "execute_result",
          "data": {
            "text/html": [
              "<div>\n",
              "<style scoped>\n",
              "    .dataframe tbody tr th:only-of-type {\n",
              "        vertical-align: middle;\n",
              "    }\n",
              "\n",
              "    .dataframe tbody tr th {\n",
              "        vertical-align: top;\n",
              "    }\n",
              "\n",
              "    .dataframe thead th {\n",
              "        text-align: right;\n",
              "    }\n",
              "</style>\n",
              "<table border=\"1\" class=\"dataframe\">\n",
              "  <thead>\n",
              "    <tr style=\"text-align: right;\">\n",
              "      <th></th>\n",
              "      <th>Price</th>\n",
              "    </tr>\n",
              "  </thead>\n",
              "  <tbody>\n",
              "    <tr>\n",
              "      <th>count</th>\n",
              "      <td>246.000000</td>\n",
              "    </tr>\n",
              "    <tr>\n",
              "      <th>mean</th>\n",
              "      <td>6596.853659</td>\n",
              "    </tr>\n",
              "    <tr>\n",
              "      <th>std</th>\n",
              "      <td>9554.054996</td>\n",
              "    </tr>\n",
              "    <tr>\n",
              "      <th>min</th>\n",
              "      <td>675.000000</td>\n",
              "    </tr>\n",
              "    <tr>\n",
              "      <th>25%</th>\n",
              "      <td>2115.500000</td>\n",
              "    </tr>\n",
              "    <tr>\n",
              "      <th>50%</th>\n",
              "      <td>3108.500000</td>\n",
              "    </tr>\n",
              "    <tr>\n",
              "      <th>75%</th>\n",
              "      <td>6030.000000</td>\n",
              "    </tr>\n",
              "    <tr>\n",
              "      <th>max</th>\n",
              "      <td>55000.000000</td>\n",
              "    </tr>\n",
              "  </tbody>\n",
              "</table>\n",
              "</div>"
            ],
            "text/plain": [
              "              Price\n",
              "count    246.000000\n",
              "mean    6596.853659\n",
              "std     9554.054996\n",
              "min      675.000000\n",
              "25%     2115.500000\n",
              "50%     3108.500000\n",
              "75%     6030.000000\n",
              "max    55000.000000"
            ]
          },
          "metadata": {
            "tags": []
          },
          "execution_count": 29
        }
      ]
    },
    {
      "cell_type": "code",
      "metadata": {
        "id": "PCtYTrCoF8Gh",
        "colab_type": "code",
        "outputId": "517fdba2-775e-4788-8fe8-bc6948dd1d75",
        "colab": {
          "base_uri": "https://localhost:8080/",
          "height": 34
        }
      },
      "source": [
        "stdev=np.std(npa)\n",
        "stdev1=np.std(npa1)\n",
        "stdev2=np.std(npa2)\n",
        "print(stdev,stdev1,stdev2)"
      ],
      "execution_count": 48,
      "outputs": [
        {
          "output_type": "stream",
          "text": [
            "9534.61641034422 68.43560865450989 708.8648251386962\n"
          ],
          "name": "stdout"
        }
      ]
    },
    {
      "cell_type": "code",
      "metadata": {
        "id": "EU4RgzAwMVXn",
        "colab_type": "code",
        "colab": {
          "base_uri": "https://localhost:8080/",
          "height": 68
        },
        "outputId": "6e9413e0-607b-441e-fbfb-f108b04382b7"
      },
      "source": [
        "print(np.amin(npa),np.amax(npa))\n",
        "print(np.amin(npa1),np.amax(npa1))\n",
        "print(np.amin(npa2),np.amax(npa2))"
      ],
      "execution_count": 49,
      "outputs": [
        {
          "output_type": "stream",
          "text": [
            "675 55000\n",
            "10 350\n",
            "1 7500\n"
          ],
          "name": "stdout"
        }
      ]
    },
    {
      "cell_type": "code",
      "metadata": {
        "id": "nRb0nWC4Ee3I",
        "colab_type": "code",
        "colab": {}
      },
      "source": [
        "from scipy.stats import gaussian_kde\n",
        "def kde_scipy(x, x_grid, bandwidth, **kwargs):\n",
        "    \"\"\"Kernel Density Estimation with Scipy\"\"\"\n",
        "    # Note that scipy weights its bandwidth by the covariance of the\n",
        "    # input data.  To make the results comparable to the other methods,\n",
        "    # we divide the bandwidth by the sample standard deviation here.\n",
        "    kde = gaussian_kde(x, bw_method=bandwidth / x.std(ddof=1), **kwargs)\n",
        "    return kde.evaluate(x_grid)"
      ],
      "execution_count": 0,
      "outputs": []
    },
    {
      "cell_type": "code",
      "metadata": {
        "id": "PBAlRD6kEe3K",
        "colab_type": "code",
        "outputId": "e35cdb3e-6ce5-4939-dba8-5a875ab4999b",
        "colab": {
          "base_uri": "https://localhost:8080/",
          "height": 286
        }
      },
      "source": [
        "y_grid=np.linspace(0,60000,1000)\n",
        "ideal=1.06*(np.std(npa))*((len(npa)**(-1/5)))\n",
        "pdf = kde_scipy(npa, y_grid, bandwidth=ideal/2)\n",
        "plt.plot(y_grid, pdf, color='blue', alpha=1, lw=1)"
      ],
      "execution_count": 42,
      "outputs": [
        {
          "output_type": "execute_result",
          "data": {
            "text/plain": [
              "[<matplotlib.lines.Line2D at 0x7fb77ee34f60>]"
            ]
          },
          "metadata": {
            "tags": []
          },
          "execution_count": 42
        },
        {
          "output_type": "display_data",
          "data": {
            "image/png": "[encoded data removed]",
            "text/plain": [
              "<Figure size 432x288 with 1 Axes>"
            ]
          },
          "metadata": {
            "tags": []
          }
        }
      ]
    },
    {
      "cell_type": "code",
      "metadata": {
        "id": "TzAdVqipNti5",
        "colab_type": "code",
        "colab": {
          "base_uri": "https://localhost:8080/",
          "height": 286
        },
        "outputId": "713462b7-18f5-4126-c8a1-43fae8a2398b"
      },
      "source": [
        "y_grid1=np.linspace(np.amin(npa1),np.amax(npa1),1000)\n",
        "ideal1=1.06*(np.std(npa1))*((len(npa1)**(-1/5)))\n",
        "pdf1 = kde_scipy(npa1, y_grid1, bandwidth=ideal1)\n",
        "plt.plot(y_grid1, pdf1, color='blue', alpha=1, lw=1)"
      ],
      "execution_count": 43,
      "outputs": [
        {
          "output_type": "execute_result",
          "data": {
            "text/plain": [
              "[<matplotlib.lines.Line2D at 0x7fb77ee15cc0>]"
            ]
          },
          "metadata": {
            "tags": []
          },
          "execution_count": 43
        },
        {
          "output_type": "display_data",
          "data": {
            "image/png": "[encoded data removed]",
            "text/plain": [
              "<Figure size 432x288 with 1 Axes>"
            ]
          },
          "metadata": {
            "tags": []
          }
        }
      ]
    },
    {
      "cell_type": "code",
      "metadata": {
        "id": "Y3reUnhuOQh0",
        "colab_type": "code",
        "colab": {
          "base_uri": "https://localhost:8080/",
          "height": 286
        },
        "outputId": "e36a33af-51d9-4b08-f872-d2459434dcac"
      },
      "source": [
        "y_grid2=np.linspace(np.amin(npa2),np.amax(npa2),1000)\n",
        "ideal2=1.06*(np.std(npa2))*((len(npa2)**(-1/5)))\n",
        "pdf2 = kde_scipy(npa2, y_grid2, bandwidth=ideal1*1.8)\n",
        "plt.plot(y_grid2, pdf2, color='blue', alpha=1, lw=1)"
      ],
      "execution_count": 53,
      "outputs": [
        {
          "output_type": "execute_result",
          "data": {
            "text/plain": [
              "[<matplotlib.lines.Line2D at 0x7fb77eb665c0>]"
            ]
          },
          "metadata": {
            "tags": []
          },
          "execution_count": 53
        },
        {
          "output_type": "display_data",
          "data": {
            "image/png": "[encoded data removed]",
            "text/plain": [
              "<Figure size 432x288 with 1 Axes>"
            ]
          },
          "metadata": {
            "tags": []
          }
        }
      ]
    },
    {
      "cell_type": "code",
      "metadata": {
        "id": "yLFkxtdUJNj-",
        "colab_type": "code",
        "outputId": "d7f3f264-6348-49bf-d970-fc90ccc8f97c",
        "colab": {
          "base_uri": "https://localhost:8080/",
          "height": 34
        }
      },
      "source": [
        "print(np.sum(pdf)*60,np.sum(pdf1)*((np.amax(npa1)-np.amin(npa1))/1000),np.sum(pdf2)*((np.amax(npa2)-np.amin(npa2))/1000))"
      ],
      "execution_count": 54,
      "outputs": [
        {
          "output_type": "stream",
          "text": [
            "0.935348379935688 0.9313466269338372 0.9974179862079754\n"
          ],
          "name": "stdout"
        }
      ]
    },
    {
      "cell_type": "code",
      "metadata": {
        "id": "00CBOvWMH7WT",
        "colab_type": "code",
        "outputId": "86faf66f-e751-4cd4-babd-fe09d32fa3f5",
        "colab": {
          "base_uri": "https://localhost:8080/",
          "height": 51
        }
      },
      "source": [
        "f_peak=argrelextrema(pdf, np.greater)[0][0]\n",
        "for q in range(f_peak):\n",
        "  if np.sum(pdf[f_peak-q:f_peak+q])*60 > 0.5:\n",
        "    print(np.sum(pdf[f_peak-q:f_peak+q])*60,q)\n",
        "    break\n",
        "print((f_peak-q)*60,(f_peak+q)*60)"
      ],
      "execution_count": 56,
      "outputs": [
        {
          "output_type": "stream",
          "text": [
            "0.5020798337819504 34\n",
            "540 4620\n"
          ],
          "name": "stdout"
        }
      ]
    },
    {
      "cell_type": "code",
      "metadata": {
        "id": "7mS56QZLQhrN",
        "colab_type": "code",
        "colab": {
          "base_uri": "https://localhost:8080/",
          "height": 51
        },
        "outputId": "24a5dcac-a184-459a-8472-1315c630979d"
      },
      "source": [
        "f_peak1=argrelextrema(pdf1, np.greater)[0][0]\n",
        "q=0\n",
        "for q in range(f_peak1):\n",
        "  if np.sum(pdf1[f_peak1-q:f_peak1+q])*((np.amax(npa1)-np.amin(npa1))/1000) > 0.5:\n",
        "    print(np.sum(pdf[f_peak1-q:f_peak1+q])*((np.amax(npa1)-np.amin(npa1))/1000),q)\n",
        "    break\n",
        "print((f_peak1-q)*((np.amax(npa1)-np.amin(npa1))/1000),(f_peak1+q)*((np.amax(npa1)-np.amin(npa1))/1000))"
      ],
      "execution_count": 62,
      "outputs": [
        {
          "output_type": "stream",
          "text": [
            "0.004405129670111846 128\n",
            "5.1000000000000005 92.14\n"
          ],
          "name": "stdout"
        }
      ]
    },
    {
      "cell_type": "code",
      "metadata": {
        "id": "rFq5MSF4QiNI",
        "colab_type": "code",
        "colab": {
          "base_uri": "https://localhost:8080/",
          "height": 51
        },
        "outputId": "882bb71d-478f-4db7-c213-4f8e5b45f966"
      },
      "source": [
        "f_peak2=argrelextrema(pdf2, np.greater)[0][0]\n",
        "for q in range(f_peak2):\n",
        "  if np.sum(pdf2[f_peak2-q:f_peak2+q])*((np.amax(npa2)-np.amin(npa2))/1000) > 0.5:\n",
        "    print(np.sum(pdf[f_peak2-q:f_peak2+q])*,q)\n",
        "    break\n",
        "print((f_peak2-q)*((np.amax(npa2)-np.amin(npa2))/1000),(f_peak2+q)*((np.amax(npa2)-np.amin(npa2))/1000))"
      ],
      "execution_count": 60,
      "outputs": [
        {
          "output_type": "stream",
          "text": [
            "0.4052907248185565 26\n",
            "164.97799999999998 554.9259999999999\n"
          ],
          "name": "stdout"
        }
      ]
    },
    {
      "cell_type": "code",
      "metadata": {
        "id": "AfI6YOdoEe3O",
        "colab_type": "code",
        "outputId": "cad703a0-532b-489b-ca67-f82d2d20d42a",
        "colab": {
          "base_uri": "https://localhost:8080/",
          "height": 283
        }
      },
      "source": [
        "sns.distplot(drilldf['Price'][1:]);"
      ],
      "execution_count": 0,
      "outputs": [
        {
          "output_type": "display_data",
          "data": {
            "image/png": "[encoded data removed]",
            "text/plain": [
              "<Figure size 432x288 with 1 Axes>"
            ]
          },
          "metadata": {
            "tags": []
          }
        }
      ]
    },
    {
      "cell_type": "code",
      "metadata": {
        "id": "R7E0O6foEe3R",
        "colab_type": "code",
        "colab": {}
      },
      "source": [
        "sns.distplot(df_train['Price'][1:], fit=norm);\n",
        "fig = plt.figure()\n",
        "res = stats.probplot(df_train['Price'][1:], plot=plt)"
      ],
      "execution_count": 0,
      "outputs": []
    },
    {
      "cell_type": "code",
      "metadata": {
        "id": "SlJC57DyEe3V",
        "colab_type": "code",
        "colab": {}
      },
      "source": [
        "plt.scatter(drilldf['Price'],array);"
      ],
      "execution_count": 0,
      "outputs": []
    },
    {
      "cell_type": "code",
      "metadata": {
        "id": "2-t0l3WLEe3a",
        "colab_type": "code",
        "colab": {}
      },
      "source": [
        "array=np.arange(247)+1;array"
      ],
      "execution_count": 0,
      "outputs": []
    },
    {
      "cell_type": "code",
      "metadata": {
        "id": "FfdJlg2SEe3f",
        "colab_type": "code",
        "colab": {}
      },
      "source": [
        ""
      ],
      "execution_count": 0,
      "outputs": []
    }
  ]
}