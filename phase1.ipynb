{
  "nbformat": 4,
  "nbformat_minor": 0,
  "metadata": {
    "colab": {
      "name": "Copy of phase1.ipynb",
      "version": "0.3.2",
      "provenance": []
    },
    "language_info": {
      "codemirror_mode": {
        "name": "ipython",
        "version": 3
      },
      "file_extension": ".py",
      "mimetype": "text/x-python",
      "name": "python",
      "nbconvert_exporter": "python",
      "pygments_lexer": "ipython3",
      "version": "3.6.5"
    },
    "kernelspec": {
      "display_name": "Python 3",
      "language": "python",
      "name": "python3"
    }
  },
  "cells": [
    {
      "cell_type": "markdown",
      "metadata": {
        "id": "0v9ps2nJa0qC",
        "colab_type": "text"
      },
      "source": [
        "# Phase-1 IndiaMART Hackathon\n",
        "This notebook is our a working prototype solution to gauge the appropriate unit wise price range for the 3 categories(Gloves,Kurtas,Drills) based on their units by removing outliers from the data.\n",
        "\n",
        "**Instructions for running this notebook**\n",
        "\n",
        "\n",
        "*   Jupyter notebook is needed to run this notebook if it is not available Please use Colab from google  to run it.\n",
        "*   required libraries to run this notebook are pandas,numpy,seaborn and scipy.\n",
        "*   Incase you are running this notebook please make sure all **.csv** files are uploaded \n",
        "\n",
        "\n",
        "\n",
        "\n",
        "\n",
        "\n",
        "\n",
        "\n",
        "\n"
      ]
    },
    {
      "cell_type": "code",
      "metadata": {
        "id": "YokkO0iBEe2t",
        "colab_type": "code",
        "colab": {}
      },
      "source": [
        "import pandas as pd\n",
        "import matplotlib.pyplot as plt\n",
        "import seaborn as sns\n",
        "import numpy as np\n",
        "from scipy.stats import norm\n",
        "from scipy.signal import argrelextrema\n",
        "from scipy import stats"
      ],
      "execution_count": 0,
      "outputs": []
    },
    {
      "cell_type": "markdown",
      "metadata": {
        "id": "VSxTFtO7idsg",
        "colab_type": "text"
      },
      "source": [
        "we can import the required data either from the folder or our git repository.\n",
        "The given .xlsx file is split into Three parts and and converted to .csv file which is easy to handle."
      ]
    },
    {
      "cell_type": "code",
      "metadata": {
        "id": "V_JxW7kwEe2x",
        "colab_type": "code",
        "colab": {}
      },
      "source": [
        "try:\n",
        "  drilldf = pd.read_csv('./phaseone-drill.csv')\n",
        "  glovedf = pd.read_csv('./phaseone-gloves.csv')\n",
        "  kurtadf = pd.read_csv('./phaseone-kurta.csv')\n",
        "except:\n",
        "  try:\n",
        "    drilldf = pd.read_csv('https://raw.githubusercontent.com/nik299/IndiaMart-Hackathon-2k19/master/phaseone-drill.csv')\n",
        "    glovedf = pd.read_csv('https://raw.githubusercontent.com/nik299/IndiaMart-Hackathon-2k19/master/phaseone-gloves.csv')\n",
        "    kurtadf = pd.read_csv('https://raw.githubusercontent.com/nik299/IndiaMart-Hackathon-2k19/master/phaseone-kurta.csv')\n",
        "  except:\n",
        "    print(\"no file found and no internet connection\")\n"
      ],
      "execution_count": 0,
      "outputs": []
    },
    {
      "cell_type": "markdown",
      "metadata": {
        "id": "daJD4M3eoS6G",
        "colab_type": "text"
      },
      "source": [
        "the following piece of code prints out all unique units of the three item given"
      ]
    },
    {
      "cell_type": "code",
      "metadata": {
        "id": "-dHGmh-5Ee24",
        "colab_type": "code",
        "outputId": "8119f2fa-6b84-43e4-ce59-cb29f9bb9676",
        "colab": {
          "base_uri": "https://localhost:8080/",
          "height": 289
        }
      },
      "source": [
        "drill_units=drilldf['Unit'].unique()\n",
        "print(drill_units,'drills')\n",
        "glove_units=glovedf['Unit'].unique()\n",
        "print(glove_units,'gloves')\n",
        "kurta_units=kurtadf['Unit'].unique()\n",
        "print(kurta_units,'kurtas')"
      ],
      "execution_count": 78,
      "outputs": [
        {
          "output_type": "stream",
          "text": [
            "['Piece' 'Piece(s)' 'pack' 'unit' 'Number' 'Unit' 'Pack' '1nos' 'Unit(s)'\n",
            " 'kit' 'Set' 'Pc_Onwards' 'ONWARDS' 'Kit'] drills\n",
            "['Pair' 'Piece' 'pack' 'Unit' 'Pack' 'Unit/Onwards' 'Pair(s)' 'unit' 'Set'\n",
            " 'Pieces'] gloves\n",
            "['Piece' 'dollar' 'Packet' 'piece' 'Meter' 'Piece(s)' 'Set' 'Per piece'\n",
            " 'Unit' '1' '1pc' 'Box' '170 per peice' 'Unstitch' 'Barrel' 'Carton'\n",
            " 'peice' 'Pieces' 'Sets' 'Unit(s)' 'one' 'Bag' 'Selfie Kurtis' 'Pack'\n",
            " 'Pair' 'Pound' 'Peice' '1piece' 'No' 'Kilogram' 'Number' \"40' Container\"\n",
            " 'pack' '100 pic' 'Year' \"20' Container\" 'Pcs' 'Piece(s) Onwards' 'One'\n",
            " 'kurtI' 'Ounce' 'onwards' '10-10000' 'per piese' 'Day' 'Set(s)'\n",
            " '12 units' '1pis' 'Onwards' 'One peace' 'Set(S)' 'Pair piece' 'Ounce(s)'\n",
            " 'Packet(s)' 'Single' 'one pcs' 'Pc' '4 pcs' '4 units' '5' 'set' 'kurti'\n",
            " 'pcs' 'pices' 'Pics' 'single piece' 'pi' 'per piece' 'Kurti' 'one unit'\n",
            " '1 piece' '1 pice' 'Suit' 'pair piece' '10' 'pieces' '1pcs' '1 pc'\n",
            " '3 set' 'Xl size' '1000 per unit' '1pcd' 'Psc' 'Gram' 'Rs' 'in' '1 pcs'\n",
            " 'Feet' 'onepices'] kurtas\n"
          ],
          "name": "stdout"
        }
      ]
    },
    {
      "cell_type": "markdown",
      "metadata": {
        "id": "0s7fEGG0o6T4",
        "colab_type": "text"
      },
      "source": [
        "The following three cells prints out the count of each unique unts."
      ]
    },
    {
      "cell_type": "code",
      "metadata": {
        "id": "7dKAIEMGEe28",
        "colab_type": "code",
        "outputId": "a3e58071-271c-4c5e-c230-d508c914e8f7",
        "colab": {
          "base_uri": "https://localhost:8080/",
          "height": 272
        }
      },
      "source": [
        "drilldf['Unit'].value_counts()"
      ],
      "execution_count": 79,
      "outputs": [
        {
          "output_type": "execute_result",
          "data": {
            "text/plain": [
              "Piece         119\n",
              "pack           47\n",
              "unit           25\n",
              "Unit           17\n",
              "Number         14\n",
              "Pack            9\n",
              "Piece(s)        5\n",
              "Pc_Onwards      5\n",
              "1nos            1\n",
              "kit             1\n",
              "Set             1\n",
              "Kit             1\n",
              "ONWARDS         1\n",
              "Unit(s)         1\n",
              "Name: Unit, dtype: int64"
            ]
          },
          "metadata": {
            "tags": []
          },
          "execution_count": 79
        }
      ]
    },
    {
      "cell_type": "code",
      "metadata": {
        "id": "_aMEixII92Ku",
        "colab_type": "code",
        "outputId": "9a6671ad-6ecc-4873-ecdc-d7722ef1f3f4",
        "colab": {
          "base_uri": "https://localhost:8080/",
          "height": 204
        }
      },
      "source": [
        "glovedf['Unit'].value_counts()"
      ],
      "execution_count": 80,
      "outputs": [
        {
          "output_type": "execute_result",
          "data": {
            "text/plain": [
              "Pair            113\n",
              "unit              9\n",
              "Piece             6\n",
              "pack              5\n",
              "Pack              3\n",
              "Unit              3\n",
              "Pair(s)           2\n",
              "Pieces            1\n",
              "Set               1\n",
              "Unit/Onwards      1\n",
              "Name: Unit, dtype: int64"
            ]
          },
          "metadata": {
            "tags": []
          },
          "execution_count": 80
        }
      ]
    },
    {
      "cell_type": "code",
      "metadata": {
        "id": "_2f3W73W92vW",
        "colab_type": "code",
        "outputId": "71364572-a02d-4850-fc7d-85d116fc96cf",
        "colab": {
          "base_uri": "https://localhost:8080/",
          "height": 1071
        }
      },
      "source": [
        "kurtadf['Unit'].value_counts()\n"
      ],
      "execution_count": 81,
      "outputs": [
        {
          "output_type": "execute_result",
          "data": {
            "text/plain": [
              "Piece               3334\n",
              "Piece(s)             500\n",
              "1                     76\n",
              "Unit                  63\n",
              "Set                   43\n",
              "Onwards               39\n",
              "piece                 38\n",
              "No                    37\n",
              "Bag                   23\n",
              "Number                23\n",
              "Pair                  17\n",
              "Pieces                13\n",
              "Pack                  13\n",
              "Unit(s)               11\n",
              "onwards                9\n",
              "Box                    9\n",
              "20' Container          6\n",
              "Set(s)                 5\n",
              "40' Container          5\n",
              "Packet                 4\n",
              "Ounce                  4\n",
              "kurti                  3\n",
              "Meter                  3\n",
              "1pc                    3\n",
              "1piece                 3\n",
              "one                    3\n",
              "peice                  3\n",
              "Psc                    3\n",
              "pices                  2\n",
              "Pics                   2\n",
              "                    ... \n",
              "Selfie Kurtis          1\n",
              "pi                     1\n",
              "per piece              1\n",
              "1 piece                1\n",
              "Pound                  1\n",
              "10-10000               1\n",
              "170 per peice          1\n",
              "Feet                   1\n",
              "Carton                 1\n",
              "Suit                   1\n",
              "100 pic                1\n",
              "Kurti                  1\n",
              "Unstitch               1\n",
              "Rs                     1\n",
              "one unit               1\n",
              "Sets                   1\n",
              "set                    1\n",
              "Piece(s) Onwards       1\n",
              "Kilogram               1\n",
              "kurtI                  1\n",
              "Per piece              1\n",
              "Peice                  1\n",
              "1 pcs                  1\n",
              "pcs                    1\n",
              "1pcd                   1\n",
              "One peace              1\n",
              "dollar                 1\n",
              "onepices               1\n",
              "4 units                1\n",
              "Gram                   1\n",
              "Name: Unit, Length: 89, dtype: int64"
            ]
          },
          "metadata": {
            "tags": []
          },
          "execution_count": 81
        }
      ]
    },
    {
      "cell_type": "code",
      "metadata": {
        "id": "UI2lCgTkLZVU",
        "colab_type": "code",
        "outputId": "b9fcaad8-20f6-4f23-ae9e-b77918f09610",
        "colab": {
          "base_uri": "https://localhost:8080/",
          "height": 68
        }
      },
      "source": [
        "kurtadf.loc[((kurtadf['Unit']=='Piece') | (kurtadf['Unit']=='Piece(s)')) & (kurtadf['Price'] < 10000)]['Unit'].value_counts()"
      ],
      "execution_count": 82,
      "outputs": [
        {
          "output_type": "execute_result",
          "data": {
            "text/plain": [
              "Piece       3323\n",
              "Piece(s)     500\n",
              "Name: Unit, dtype: int64"
            ]
          },
          "metadata": {
            "tags": []
          },
          "execution_count": 82
        }
      ]
    },
    {
      "cell_type": "markdown",
      "metadata": {
        "id": "gMo3-4EasS61",
        "colab_type": "text"
      },
      "source": [
        "# Calculating Z-score\n",
        "Z-score is meausure of how much given sample is deviating compared to Standaed deviation.\n",
        "In python the function is available in scipy.stats which we are using in the following cells\n",
        "\n",
        "**note:**we are calculating only abolsolute values as sign of z-score doesn't matter in finding outliers\n",
        "\n",
        "\n",
        "\n",
        "\n"
      ]
    },
    {
      "cell_type": "code",
      "metadata": {
        "id": "iebcrhEEEDId",
        "colab_type": "code",
        "colab": {}
      },
      "source": [
        "drill_z = np.abs(stats.zscore(drilldf['Price']))\n",
        "glove_z = np.abs(stats.zscore(glovedf.loc[glovedf['Unit']=='Pair']['Price']))\n",
        "kurta_z = np.abs(stats.zscore(kurtadf.loc[((kurtadf['Unit']=='Piece') | (kurtadf['Unit']=='Piece(s)'))]['Price']))"
      ],
      "execution_count": 0,
      "outputs": []
    },
    {
      "cell_type": "markdown",
      "metadata": {
        "id": "YPxPlQ3GtSRL",
        "colab_type": "text"
      },
      "source": [
        "After obtaing z-score we are not considering all entries whse z-score is greater than 3 or less than -3 and also we are considering only some units values as unit conversion is not as indicative as the sugar example given."
      ]
    },
    {
      "cell_type": "code",
      "metadata": {
        "id": "I-o75iBmEe2_",
        "colab_type": "code",
        "colab": {}
      },
      "source": [
        "drill_ol=drilldf[(drill_z < 3)]\n",
        "npa=drilldf[(drill_z < 3)]['Price']\n",
        "npa1=glovedf.loc[glovedf['Unit']=='Pair'][(glove_z < 3)]['Price']\n",
        "npa2=kurtadf.loc[((kurtadf['Unit']=='Piece') | (kurtadf['Unit']=='Piece(s)'))][(kurta_z < 3)]['Price'][:-1]"
      ],
      "execution_count": 0,
      "outputs": []
    },
    {
      "cell_type": "code",
      "metadata": {
        "id": "7FXyP-a689Mv",
        "colab_type": "code",
        "colab": {
          "base_uri": "https://localhost:8080/",
          "height": 297
        },
        "outputId": "52a5a301-cfdf-41e8-f02a-1ceb5ab8bf65"
      },
      "source": [
        "kurtadf.loc[((kurtadf['Unit']=='Piece') | (kurtadf['Unit']=='Piece(s)'))][(kurta_z < 3)].describe()"
      ],
      "execution_count": 133,
      "outputs": [
        {
          "output_type": "execute_result",
          "data": {
            "text/html": [
              "<div>\n",
              "<style scoped>\n",
              "    .dataframe tbody tr th:only-of-type {\n",
              "        vertical-align: middle;\n",
              "    }\n",
              "\n",
              "    .dataframe tbody tr th {\n",
              "        vertical-align: top;\n",
              "    }\n",
              "\n",
              "    .dataframe thead th {\n",
              "        text-align: right;\n",
              "    }\n",
              "</style>\n",
              "<table border=\"1\" class=\"dataframe\">\n",
              "  <thead>\n",
              "    <tr style=\"text-align: right;\">\n",
              "      <th></th>\n",
              "      <th>Price</th>\n",
              "    </tr>\n",
              "  </thead>\n",
              "  <tbody>\n",
              "    <tr>\n",
              "      <th>count</th>\n",
              "      <td>3821.000000</td>\n",
              "    </tr>\n",
              "    <tr>\n",
              "      <th>mean</th>\n",
              "      <td>696.981942</td>\n",
              "    </tr>\n",
              "    <tr>\n",
              "      <th>std</th>\n",
              "      <td>675.809564</td>\n",
              "    </tr>\n",
              "    <tr>\n",
              "      <th>min</th>\n",
              "      <td>1.000000</td>\n",
              "    </tr>\n",
              "    <tr>\n",
              "      <th>25%</th>\n",
              "      <td>325.000000</td>\n",
              "    </tr>\n",
              "    <tr>\n",
              "      <th>50%</th>\n",
              "      <td>500.000000</td>\n",
              "    </tr>\n",
              "    <tr>\n",
              "      <th>75%</th>\n",
              "      <td>800.000000</td>\n",
              "    </tr>\n",
              "    <tr>\n",
              "      <th>max</th>\n",
              "      <td>6589.000000</td>\n",
              "    </tr>\n",
              "  </tbody>\n",
              "</table>\n",
              "</div>"
            ],
            "text/plain": [
              "             Price\n",
              "count  3821.000000\n",
              "mean    696.981942\n",
              "std     675.809564\n",
              "min       1.000000\n",
              "25%     325.000000\n",
              "50%     500.000000\n",
              "75%     800.000000\n",
              "max    6589.000000"
            ]
          },
          "metadata": {
            "tags": []
          },
          "execution_count": 133
        }
      ]
    },
    {
      "cell_type": "markdown",
      "metadata": {
        "id": "NG_Ijss11-As",
        "colab_type": "text"
      },
      "source": [
        "The following cell is used to store standard deviation which is very important to calculate the bandwidth in later part"
      ]
    },
    {
      "cell_type": "code",
      "metadata": {
        "id": "PCtYTrCoF8Gh",
        "colab_type": "code",
        "outputId": "3cbd88d8-6a02-441c-8e96-4b04d029f647",
        "colab": {
          "base_uri": "https://localhost:8080/",
          "height": 34
        }
      },
      "source": [
        "stdev=np.std(npa)\n",
        "stdev1=np.std(npa1)\n",
        "stdev2=np.std(npa2)\n",
        "print(stdev,stdev1,stdev2)"
      ],
      "execution_count": 89,
      "outputs": [
        {
          "output_type": "stream",
          "text": [
            "5765.5323498379985 64.60411168657322 669.0502683105965\n"
          ],
          "name": "stdout"
        }
      ]
    },
    {
      "cell_type": "markdown",
      "metadata": {
        "id": "jh2vYAYr2g1S",
        "colab_type": "text"
      },
      "source": [
        "# Kernel Density estimation method for calculation of Probabilty Disribution Function\n",
        "we are using probability distribution function for find ing require range as pdf is more suitable for finding relationship in general population.\n",
        "\n",
        "kernel Density Estimation is useful method for calculating pdf from discret samples.\n",
        "\n"
      ]
    },
    {
      "cell_type": "code",
      "metadata": {
        "id": "nRb0nWC4Ee3I",
        "colab_type": "code",
        "colab": {}
      },
      "source": [
        "from scipy.stats import gaussian_kde\n",
        "def kde_scipy(x, x_grid, bandwidth, **kwargs):\n",
        "    \"\"\"Kernel Density Estimation with Scipy\"\"\"\n",
        "    # Note that scipy weights its bandwidth by the covariance of the\n",
        "    # input data.  To make the results comparable to the other methods,\n",
        "    # we divide the bandwidth by the sample standard deviation here.\n",
        "    kde = gaussian_kde(x, bw_method=bandwidth / x.std(ddof=1), **kwargs)\n",
        "    return kde.evaluate(x_grid)"
      ],
      "execution_count": 0,
      "outputs": []
    },
    {
      "cell_type": "code",
      "metadata": {
        "id": "PBAlRD6kEe3K",
        "colab_type": "code",
        "outputId": "f44bb6db-4fe0-43c8-a9fc-75c6c5d7ceb0",
        "colab": {
          "base_uri": "https://localhost:8080/",
          "height": 283
        }
      },
      "source": [
        "y_grid=np.linspace(np.amin(npa)-(np.amax(npa)-np.amin(npa))*0.4,np.amax(npa)+(np.amax(npa)-np.amin(npa))*0.4,10000)\n",
        "ideal=1.06*(np.std(npa))*((len(npa)**(-1/5)))\n",
        "pdf = kde_scipy(npa, y_grid, bandwidth=ideal)\n",
        "plt.plot(y_grid, pdf, color='blue', alpha=1, lw=1)\n",
        "sns.distplot(drill_ol['Price'],hist=False,kde=True)\n",
        "plt.show()"
      ],
      "execution_count": 124,
      "outputs": [
        {
          "output_type": "display_data",
          "data": {
            "image/png": "[encoded data removed]",
            "text/plain": [
              "<Figure size 432x288 with 1 Axes>"
            ]
          },
          "metadata": {
            "tags": []
          }
        }
      ]
    },
    {
      "cell_type": "code",
      "metadata": {
        "id": "TzAdVqipNti5",
        "colab_type": "code",
        "outputId": "07287050-6663-49ee-e2fa-5b07e066741a",
        "colab": {
          "base_uri": "https://localhost:8080/",
          "height": 286
        }
      },
      "source": [
        "y_grid1=np.linspace(np.amin(npa1)-(np.amax(npa1)-np.amin(npa1))*0.4,np.amax(npa1)+(np.amax(npa1)-np.amin(npa1))*0.4,10000)\n",
        "ideal1=1.06*(np.std(npa1))*((len(npa1)**(-1/5)))\n",
        "pdf1 = kde_scipy(npa1, y_grid1, bandwidth=ideal1)\n",
        "plt.plot(y_grid1, pdf1, color='blue', alpha=1, lw=1)"
      ],
      "execution_count": 125,
      "outputs": [
        {
          "output_type": "execute_result",
          "data": {
            "text/plain": [
              "[<matplotlib.lines.Line2D at 0x7f1e1d729128>]"
            ]
          },
          "metadata": {
            "tags": []
          },
          "execution_count": 125
        },
        {
          "output_type": "display_data",
          "data": {
            "image/png": "[encoded data removed]",
            "text/plain": [
              "<Figure size 432x288 with 1 Axes>"
            ]
          },
          "metadata": {
            "tags": []
          }
        }
      ]
    },
    {
      "cell_type": "code",
      "metadata": {
        "id": "UTTf_II46Uft",
        "colab_type": "code",
        "colab": {
          "base_uri": "https://localhost:8080/",
          "height": 34
        },
        "outputId": "f5bbc884-201d-4a82-9d61-e24a1e3f4cbf"
      },
      "source": [
        "(np.amax(npa2)-np.amin(npa2))*0.4"
      ],
      "execution_count": 117,
      "outputs": [
        {
          "output_type": "execute_result",
          "data": {
            "text/plain": [
              "2599.6000000000004"
            ]
          },
          "metadata": {
            "tags": []
          },
          "execution_count": 117
        }
      ]
    },
    {
      "cell_type": "code",
      "metadata": {
        "id": "Y3reUnhuOQh0",
        "colab_type": "code",
        "outputId": "8524a7f0-6f84-4fd8-c582-d456958ff483",
        "colab": {
          "base_uri": "https://localhost:8080/",
          "height": 215
        }
      },
      "source": [
        "y_grid2=np.linspace(-(np.amax(npa2)-np.amin(npa2))*0.05,np.amax(npa2)*1.05,10000)\n",
        "ideal2=1.06*(np.std(npa2))*((len(npa2)**(-1/5)))\n",
        "pdf2 = kde_scipy(npa2, y_grid2, bandwidth=ideal2)\n",
        "plt.plot(y_grid2, pdf2, color='blue', alpha=1, lw=1)\n"
      ],
      "execution_count": 1,
      "outputs": [
        {
          "output_type": "error",
          "ename": "NameError",
          "evalue": "ignored",
          "traceback": [
            "\u001b[0;31m---------------------------------------------------------------------------\u001b[0m",
            "\u001b[0;31mNameError\u001b[0m                                 Traceback (most recent call last)",
            "\u001b[0;32m<ipython-input-1-c92e120f470d>\u001b[0m in \u001b[0;36m<module>\u001b[0;34m()\u001b[0m\n\u001b[0;32m----> 1\u001b[0;31m \u001b[0my_grid2\u001b[0m\u001b[0;34m=\u001b[0m\u001b[0mnp\u001b[0m\u001b[0;34m.\u001b[0m\u001b[0mlinspace\u001b[0m\u001b[0;34m(\u001b[0m\u001b[0;34m-\u001b[0m\u001b[0;34m(\u001b[0m\u001b[0mnp\u001b[0m\u001b[0;34m.\u001b[0m\u001b[0mamax\u001b[0m\u001b[0;34m(\u001b[0m\u001b[0mnpa2\u001b[0m\u001b[0;34m)\u001b[0m\u001b[0;34m-\u001b[0m\u001b[0mnp\u001b[0m\u001b[0;34m.\u001b[0m\u001b[0mamin\u001b[0m\u001b[0;34m(\u001b[0m\u001b[0mnpa2\u001b[0m\u001b[0;34m)\u001b[0m\u001b[0;34m)\u001b[0m\u001b[0;34m*\u001b[0m\u001b[0;36m0.05\u001b[0m\u001b[0;34m,\u001b[0m\u001b[0mnp\u001b[0m\u001b[0;34m.\u001b[0m\u001b[0mamax\u001b[0m\u001b[0;34m(\u001b[0m\u001b[0mnpa2\u001b[0m\u001b[0;34m)\u001b[0m\u001b[0;34m*\u001b[0m\u001b[0;36m1.05\u001b[0m\u001b[0;34m,\u001b[0m\u001b[0;36m10000\u001b[0m\u001b[0;34m)\u001b[0m\u001b[0;34m\u001b[0m\u001b[0;34m\u001b[0m\u001b[0m\n\u001b[0m\u001b[1;32m      2\u001b[0m \u001b[0mideal2\u001b[0m\u001b[0;34m=\u001b[0m\u001b[0;36m1.06\u001b[0m\u001b[0;34m*\u001b[0m\u001b[0;34m(\u001b[0m\u001b[0mnp\u001b[0m\u001b[0;34m.\u001b[0m\u001b[0mstd\u001b[0m\u001b[0;34m(\u001b[0m\u001b[0mnpa2\u001b[0m\u001b[0;34m)\u001b[0m\u001b[0;34m)\u001b[0m\u001b[0;34m*\u001b[0m\u001b[0;34m(\u001b[0m\u001b[0;34m(\u001b[0m\u001b[0mlen\u001b[0m\u001b[0;34m(\u001b[0m\u001b[0mnpa2\u001b[0m\u001b[0;34m)\u001b[0m\u001b[0;34m**\u001b[0m\u001b[0;34m(\u001b[0m\u001b[0;34m-\u001b[0m\u001b[0;36m1\u001b[0m\u001b[0;34m/\u001b[0m\u001b[0;36m5\u001b[0m\u001b[0;34m)\u001b[0m\u001b[0;34m)\u001b[0m\u001b[0;34m)\u001b[0m\u001b[0;34m\u001b[0m\u001b[0;34m\u001b[0m\u001b[0m\n\u001b[1;32m      3\u001b[0m \u001b[0mpdf2\u001b[0m \u001b[0;34m=\u001b[0m \u001b[0mkde_scipy\u001b[0m\u001b[0;34m(\u001b[0m\u001b[0mnpa2\u001b[0m\u001b[0;34m,\u001b[0m \u001b[0my_grid2\u001b[0m\u001b[0;34m,\u001b[0m \u001b[0mbandwidth\u001b[0m\u001b[0;34m=\u001b[0m\u001b[0mideal2\u001b[0m\u001b[0;34m)\u001b[0m\u001b[0;34m\u001b[0m\u001b[0;34m\u001b[0m\u001b[0m\n\u001b[1;32m      4\u001b[0m \u001b[0mplt\u001b[0m\u001b[0;34m.\u001b[0m\u001b[0mplot\u001b[0m\u001b[0;34m(\u001b[0m\u001b[0my_grid2\u001b[0m\u001b[0;34m,\u001b[0m \u001b[0mpdf2\u001b[0m\u001b[0;34m,\u001b[0m \u001b[0mcolor\u001b[0m\u001b[0;34m=\u001b[0m\u001b[0;34m'blue'\u001b[0m\u001b[0;34m,\u001b[0m \u001b[0malpha\u001b[0m\u001b[0;34m=\u001b[0m\u001b[0;36m1\u001b[0m\u001b[0;34m,\u001b[0m \u001b[0mlw\u001b[0m\u001b[0;34m=\u001b[0m\u001b[0;36m1\u001b[0m\u001b[0;34m)\u001b[0m\u001b[0;34m\u001b[0m\u001b[0;34m\u001b[0m\u001b[0m\n",
            "\u001b[0;31mNameError\u001b[0m: name 'np' is not defined"
          ]
        }
      ]
    },
    {
      "cell_type": "code",
      "metadata": {
        "id": "yLFkxtdUJNj-",
        "colab_type": "code",
        "outputId": "358acd7a-d3bf-411c-a60e-73fde1cfc898",
        "colab": {
          "base_uri": "https://localhost:8080/",
          "height": 34
        }
      },
      "source": [
        "w=((np.amax(npa)-np.amin(npa))*1.8)/1000\n",
        "w1=((np.amax(npa1)-np.amin(npa1))*1.8)/1000\n",
        "w2=((np.amax(npa2)-np.amin(npa2))*0.05+np.amax(npa2)+(np.amax(npa2)-np.amin(npa2))*1)/1000\n",
        "print(np.sum(pdf)*w,np.sum(pdf1)*w1,np.sum(pdf2)*w2)"
      ],
      "execution_count": 123,
      "outputs": [
        {
          "output_type": "stream",
          "text": [
            "0.9989999999999476 0.9989895031714772 0.9989626965229761\n"
          ],
          "name": "stdout"
        }
      ]
    },
    {
      "cell_type": "code",
      "metadata": {
        "id": "jHBGAYDqMYTC",
        "colab_type": "code",
        "outputId": "edd4f115-c748-4636-d0bc-7fc408535917",
        "colab": {
          "base_uri": "https://localhost:8080/",
          "height": 34
        }
      },
      "source": [
        "pdf_area=np.zeros(len(pdf)-1)\n",
        "for a in range(len(pdf_area)):\n",
        "  pdf_area[a]=(pdf[a]+pdf[a+1])*(w/2)\n",
        "print(np.sum(pdf_area))"
      ],
      "execution_count": 96,
      "outputs": [
        {
          "output_type": "stream",
          "text": [
            "0.9989999999999413\n"
          ],
          "name": "stdout"
        }
      ]
    },
    {
      "cell_type": "code",
      "metadata": {
        "id": "00CBOvWMH7WT",
        "colab_type": "code",
        "outputId": "ae05c8e7-c13c-4288-c92c-d970ba32db11",
        "colab": {
          "base_uri": "https://localhost:8080/",
          "height": 51
        }
      },
      "source": [
        "f_peak=argrelextrema(pdf, np.greater)[0][0]\n",
        "for q in range(f_peak):\n",
        "  if np.sum(pdf[f_peak-q:f_peak+q])*w > 0.5:\n",
        "    print(np.sum(pdf[f_peak-q:f_peak+q])*w,q)\n",
        "    break\n",
        "print((f_peak-q)*w+np.amin(npa)-(np.amax(npa)-np.amin(npa))*0.4,(f_peak+q)*w+np.amin(npa)-(np.amax(npa)-np.amin(npa))*0.4)"
      ],
      "execution_count": 97,
      "outputs": [
        {
          "output_type": "stream",
          "text": [
            "0.5051455892006677 35\n",
            "428.97559999999976 4838.723600000001\n"
          ],
          "name": "stdout"
        }
      ]
    },
    {
      "cell_type": "code",
      "metadata": {
        "id": "7mS56QZLQhrN",
        "colab_type": "code",
        "outputId": "e840c02d-a7d6-4e34-a41b-cce9a503aafd",
        "colab": {
          "base_uri": "https://localhost:8080/",
          "height": 51
        }
      },
      "source": [
        "f_peak1=argrelextrema(pdf1, np.greater)[0][0]\n",
        "q=0\n",
        "for q in range(f_peak1):\n",
        "  if np.sum(pdf1[f_peak1-q:f_peak1+2*q])*w1 > 0.5:\n",
        "    print(np.sum(pdf1[f_peak1-q:f_peak1+2*q])*w1,q)\n",
        "    break\n",
        "print((f_peak1-q)*w1,(f_peak1+2*q)*w1)"
      ],
      "execution_count": 98,
      "outputs": [
        {
          "output_type": "stream",
          "text": [
            "0.5026509161057199 67\n",
            "115.344 202.176\n"
          ],
          "name": "stdout"
        }
      ]
    },
    {
      "cell_type": "code",
      "metadata": {
        "id": "rFq5MSF4QiNI",
        "colab_type": "code",
        "outputId": "a5be3417-367e-4815-cf30-ddfd983de112",
        "colab": {
          "base_uri": "https://localhost:8080/",
          "height": 51
        }
      },
      "source": [
        "f_peak2=argrelextrema(pdf2, np.greater)[0][0]\n",
        "for q in range(f_peak2):\n",
        "  if np.sum(pdf2[f_peak2-q:f_peak2+q])*w2 > 0.6:\n",
        "    print(np.sum(pdf2[f_peak2-q:f_peak2+q])*w2,q)\n",
        "    break\n",
        "print((f_peak2-q)*w2+np.amin(npa2),(f_peak2+q)*w2+np.amin(npa2))"
      ],
      "execution_count": 99,
      "outputs": [
        {
          "output_type": "stream",
          "text": [
            "0.6037672753033876 45\n",
            "14.0 599.0\n"
          ],
          "name": "stdout"
        }
      ]
    },
    {
      "cell_type": "code",
      "metadata": {
        "id": "43E_-ON6Xgsh",
        "colab_type": "code",
        "outputId": "f37fed60-37b6-41aa-ecdf-fcfb58b3afae",
        "colab": {
          "base_uri": "https://localhost:8080/",
          "height": 68
        }
      },
      "source": [
        "qq1=len(pdf)\n",
        "for q in range(len(pdf)):\n",
        "  for p in range(len(pdf)-(q+1)):\n",
        "     if np.sum(pdf[p:p+q+1])*w > 0.5:\n",
        "        print(np.sum(pdf[p:p+q+1])*w,p,q)\n",
        "        break\n",
        "  if np.sum(pdf[p:p+q+1])*w > 0.5:\n",
        "    print(np.sum(pdf[p:p+q+1])*w,p,q)\n",
        "    break\n",
        "print((p)*w+np.amin(npa)-(np.amax(npa)-np.amin(npa))*0.4,(p+q+1)*w+np.amin(npa)-(np.amax(npa)-np.amin(npa))*0.4)  \n",
        "     \n",
        "        "
      ],
      "execution_count": 100,
      "outputs": [
        {
          "output_type": "stream",
          "text": [
            "0.5002990797551726 231 68\n",
            "0.5002990797551726 231 68\n",
            "554.9683999999997 4901.720000000001\n"
          ],
          "name": "stdout"
        }
      ]
    },
    {
      "cell_type": "code",
      "metadata": {
        "id": "iS3Nmo98wL7L",
        "colab_type": "code",
        "outputId": "62c678a9-8bb0-492c-d3ea-2ff0d2669f59",
        "colab": {
          "base_uri": "https://localhost:8080/",
          "height": 68
        }
      },
      "source": [
        "qq2=len(pdf1)\n",
        "for q in range(len(pdf1)):\n",
        "  for p in range(len(pdf1)-(q+1)):\n",
        "     if np.sum(pdf1[p:p+q+1])*w1 > 0.5:\n",
        "        print(np.sum(pdf1[p:p+q+1])*w1,p,q)\n",
        "        break\n",
        "  if np.sum(pdf1[p:p+q+1])*w1 > 0.5:\n",
        "    print(np.sum(pdf1[p:p+q+1])*w1,p,q)\n",
        "    break\n",
        "print((p)*w1+np.amin(npa1)-(np.amax(npa1)-np.amin(npa1))*0.4,(p+q+1)*w1+np.amin(npa1)-(np.amax(npa1)-np.amin(npa1))*0.4)  \n",
        " "
      ],
      "execution_count": 101,
      "outputs": [
        {
          "output_type": "stream",
          "text": [
            "0.5000234198382558 237 193\n",
            "0.5000234198382558 237 193\n",
            "16.384 100.19200000000001\n"
          ],
          "name": "stdout"
        }
      ]
    },
    {
      "cell_type": "code",
      "metadata": {
        "id": "5jp7a2JZ3b9f",
        "colab_type": "code",
        "outputId": "ff4f370d-da75-4842-ff60-2ba5e870499e",
        "colab": {
          "base_uri": "https://localhost:8080/",
          "height": 68
        }
      },
      "source": [
        "qq3=len(pdf2)\n",
        "for q in range(len(pdf2)):\n",
        "  for p in range(len(pdf2)-(q+1)):\n",
        "     if np.sum(pdf2[p:p+q+1])*w2 > 0.6:\n",
        "        print(np.sum(pdf2[p:p+q+1])*w2,p,q)\n",
        "        break\n",
        "  if np.sum(pdf2[p:p+q+1])*w2 > 0.6:\n",
        "    print(np.sum(pdf2[p:p+q+1])*w2,p,q)\n",
        "    break\n",
        "print((p)*w2+np.amin(npa2),(p+q+1)*w2+np.amin(npa2))"
      ],
      "execution_count": 102,
      "outputs": [
        {
          "output_type": "stream",
          "text": [
            "0.6000918485533974 25 73\n",
            "0.6000918485533974 25 73\n",
            "163.5 644.5\n"
          ],
          "name": "stdout"
        }
      ]
    },
    {
      "cell_type": "code",
      "metadata": {
        "id": "iME6nif-r8il",
        "colab_type": "code",
        "outputId": "3db125b1-664d-4b2f-9bed-b0f4ee3b0137",
        "colab": {
          "base_uri": "https://localhost:8080/",
          "height": 34
        }
      },
      "source": [
        "aqw=np.zeros(6)\n",
        "aqw[1:2]"
      ],
      "execution_count": 103,
      "outputs": [
        {
          "output_type": "execute_result",
          "data": {
            "text/plain": [
              "array([0.])"
            ]
          },
          "metadata": {
            "tags": []
          },
          "execution_count": 103
        }
      ]
    },
    {
      "cell_type": "code",
      "metadata": {
        "id": "AfI6YOdoEe3O",
        "colab_type": "code",
        "outputId": "d0374c96-eab7-4863-baf7-484202a3ef71",
        "colab": {
          "base_uri": "https://localhost:8080/",
          "height": 300
        }
      },
      "source": [
        "sns.distplot(drill_ol['Price'],kde=False)"
      ],
      "execution_count": 104,
      "outputs": [
        {
          "output_type": "execute_result",
          "data": {
            "text/plain": [
              "<matplotlib.axes._subplots.AxesSubplot at 0x7f1e1dc20470>"
            ]
          },
          "metadata": {
            "tags": []
          },
          "execution_count": 104
        },
        {
          "output_type": "display_data",
          "data": {
            "image/png": "[encoded data removed]",
            "text/plain": [
              "<Figure size 432x288 with 1 Axes>"
            ]
          },
          "metadata": {
            "tags": []
          }
        }
      ]
    },
    {
      "cell_type": "code",
      "metadata": {
        "id": "R7E0O6foEe3R",
        "colab_type": "code",
        "outputId": "a4f32f99-cc1f-43af-8095-498a61c3dc45",
        "colab": {
          "base_uri": "https://localhost:8080/",
          "height": 561
        }
      },
      "source": [
        "sns.distplot(drill_ol['Price']);\n",
        "fig = plt.figure()\n",
        "res = stats.probplot(drill_ol['Price'], plot=plt)"
      ],
      "execution_count": 105,
      "outputs": [
        {
          "output_type": "display_data",
          "data": {
            "image/png": "[encoded data removed]",
            "text/plain": [
              "<Figure size 432x288 with 1 Axes>"
            ]
          },
          "metadata": {
            "tags": []
          }
        },
        {
          "output_type": "display_data",
          "data": {
            "image/png": "[encoded data removed]",
            "text/plain": [
              "<Figure size 432x288 with 1 Axes>"
            ]
          },
          "metadata": {
            "tags": []
          }
        }
      ]
    },
    {
      "cell_type": "code",
      "metadata": {
        "id": "SlJC57DyEe3V",
        "colab_type": "code",
        "colab": {
          "base_uri": "https://localhost:8080/",
          "height": 164
        },
        "outputId": "fe419afa-d0ff-42a2-b523-e3d4040db908"
      },
      "source": [
        "plt.scatter(drill_ol['Price'],array);"
      ],
      "execution_count": 106,
      "outputs": [
        {
          "output_type": "error",
          "ename": "NameError",
          "evalue": "ignored",
          "traceback": [
            "\u001b[0;31m---------------------------------------------------------------------------\u001b[0m",
            "\u001b[0;31mNameError\u001b[0m                                 Traceback (most recent call last)",
            "\u001b[0;32m<ipython-input-106-fbefb0b536a9>\u001b[0m in \u001b[0;36m<module>\u001b[0;34m()\u001b[0m\n\u001b[0;32m----> 1\u001b[0;31m \u001b[0mplt\u001b[0m\u001b[0;34m.\u001b[0m\u001b[0mscatter\u001b[0m\u001b[0;34m(\u001b[0m\u001b[0mdrill_ol\u001b[0m\u001b[0;34m[\u001b[0m\u001b[0;34m'Price'\u001b[0m\u001b[0;34m]\u001b[0m\u001b[0;34m,\u001b[0m\u001b[0marray\u001b[0m\u001b[0;34m)\u001b[0m\u001b[0;34m;\u001b[0m\u001b[0;34m\u001b[0m\u001b[0;34m\u001b[0m\u001b[0m\n\u001b[0m",
            "\u001b[0;31mNameError\u001b[0m: name 'array' is not defined"
          ]
        }
      ]
    },
    {
      "cell_type": "code",
      "metadata": {
        "id": "2-t0l3WLEe3a",
        "colab_type": "code",
        "colab": {}
      },
      "source": [
        "array=np.arange(len(drill_ol))+1;array"
      ],
      "execution_count": 0,
      "outputs": []
    },
    {
      "cell_type": "code",
      "metadata": {
        "id": "FfdJlg2SEe3f",
        "colab_type": "code",
        "colab": {}
      },
      "source": [
        ""
      ],
      "execution_count": 0,
      "outputs": []
    }
  ]
}